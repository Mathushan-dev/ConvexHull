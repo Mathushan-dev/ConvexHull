{
 "cells": [
  {
   "cell_type": "markdown",
   "metadata": {},
   "source": [
    "# Graham scan algorithm"
   ]
  },
  {
   "cell_type": "markdown",
   "metadata": {},
   "source": [
    "Use the cell below for all python code needed to realise the Graham scan algorithm (including any auxiliary data structures and functions you might need). The `grahamscan()` function itself should take as input parameter a list of 2D points (`inputSet`), and return the subset of such points that lie on the convex hull (`outputSet`)."
   ]
  },
  {
   "cell_type": "code",
   "execution_count": 1053,
   "metadata": {},
   "outputs": [],
   "source": [
    "import math\n",
    "\n",
    "#Computes polar angles between two points\n",
    "#If only one point is provided then calculates\n",
    "#polar angle between the point and lowest leftmost point\n",
    "def polarAngle(p0, p1 = None):\n",
    "    if p1 == None:\n",
    "        p1 = llmPoint\n",
    "    dy = p0[1] - p1[1]\n",
    "    dx = p0[0] - p1[0]\n",
    "    return math.atan2(dy, dx)\n",
    "\n",
    "#Calculates distance between two points\n",
    "#If only one point is provided then calculates\n",
    "#distance between the point and lowest leftmost point\n",
    "def distance(p0, p1 = None):\n",
    "    if p1 == None:\n",
    "        p1 = llmPoint\n",
    "    dy = p0[1] - p1[1]\n",
    "    dx = p0[0] - p1[0]\n",
    "    return dy ** 2 + dx ** 2\n",
    "\n",
    "#2D determinent of three points\n",
    "#Determinant > 0 -> points represent anti-clockwise turn\n",
    "#Determinant < 0 -> points represent clockwise turn\n",
    "#Determinant = 0 -> points are co-linear\n",
    "def determinant(p1, p2, p3):\n",
    "    return (p2[0] - p1[0]) * (p3[1] - p1[1]) - (p2[1] - p1[1]) * (p3[0] - p1[0])\n",
    "\n",
    "def swap(arr, i, j):       \n",
    "    arr[i], arr[j] = arr[j], arr[i] \n",
    "    return arr\n",
    "\n",
    "def partition(arr,l,h):\n",
    "    i = l - 1\n",
    "    x = arr[h]\n",
    "    for j in range(l,h):\n",
    "        #here, the algorithm makes a comparison between polar angles\n",
    "        if polarAngle(arr[j]) <= polarAngle(x):\n",
    "            i += 1\n",
    "            arr = swap(arr,i,j)\n",
    "    arr = swap(arr,i+1,h)\n",
    "    return i + 1\n",
    "\n",
    "#iterative quick sort has been used to sort the points based on polar angle\n",
    "def quickSort(arr,l,h):\n",
    "    sortedPoints = []\n",
    "    sortedPoints.append(l)\n",
    "    sortedPoints.append(h)\n",
    " \n",
    "    while len(sortedPoints) > 0:\n",
    " \n",
    "        h = sortedPoints.pop()\n",
    "        l = sortedPoints.pop()\n",
    "        p = partition(arr,l,h)\n",
    "         \n",
    "        #when there are elements on the left of the pivot\n",
    "        if p-1 > l:\n",
    "            #then it should append the elements on the left first\n",
    "            sortedPoints.append(l)\n",
    "            sortedPoints.append(p-1)\n",
    "            \n",
    "        #when there are elements on the right of the pivot\n",
    "        if p+1 < h:\n",
    "            sortedPoints.append(p+1)\n",
    "            sortedPoints.append(h)\n",
    "\n",
    "#finds the bottom left point\n",
    "def LowestLeftMost(inputSet):\n",
    "    MIN = 0\n",
    "    for i in range(0, len(inputSet)):\n",
    "        #first finds the lowest point in the input set\n",
    "        if inputSet[i][1] < inputSet[MIN][1]:\n",
    "            MIN = i\n",
    "        # when two points have the same y coordinate\n",
    "        #we must compare x coordinates and the one with the lowest x coordinate is the minimum point\n",
    "        if inputSet[i][1] == inputSet[MIN][1]:\n",
    "            if inputSet[i][0] < inputSet[MIN][0]:\n",
    "                MIN = i     \n",
    "    return inputSet[MIN]\n",
    "\n",
    "def grahamscan(inputSet):\n",
    "    #Lowest leftmost point\n",
    "    global llmPoint\n",
    "    llmPoint = LowestLeftMost(inputSet)\n",
    "    #sort the inputSet\n",
    "    quickSort(inputSet,0,len(inputSet)-1)\n",
    "    sortedPoints = inputSet\n",
    "    #the hull must have the lowest leftmost point,\n",
    "    #sortedPoints[0] is used to make an initial comparison later on\n",
    "    outputSet = [llmPoint, sortedPoints[0]]\n",
    "    for s in sortedPoints[1:]:\n",
    "        #when the orientation is clockwise or the points are co-linear\n",
    "        #it should pop the last item added from the stack\n",
    "        while determinant(outputSet[-2], outputSet[-1], s) <= 0:\n",
    "            outputSet.pop()\n",
    "            if len(outputSet) < 2: #Check to make sure llm point is not deleted\n",
    "                break\n",
    "        outputSet.append(s)\n",
    "    return outputSet"
   ]
  },
  {
   "cell_type": "markdown",
   "metadata": {},
   "source": [
    "Use the cell below for all python code needed to generate test data points (both random and those representing worst-case scenario)."
   ]
  },
  {
   "cell_type": "code",
   "execution_count": 1054,
   "metadata": {},
   "outputs": [],
   "source": [
    "import random\n",
    "#code for random data generation\n",
    "def generateRandomInputSet(N):\n",
    "    inputSet = []\n",
    "    for i in range(0, N):\n",
    "        x = random.randint(0, 32767)\n",
    "        y = random.randint(0, 32767)\n",
    "        inputSet.append([x, y])\n",
    "    return inputSet\n",
    "\n",
    "#code for worst case data generation\n",
    "def generateWorstCaseInputSet(N):\n",
    "    inputSet = []\n",
    "    for i in range(0, N):\n",
    "        x = random.randint(0, 32767)\n",
    "        y = random.randint(0, 32767)\n",
    "        inputSet.append([x, y])\n",
    "    global llmPoint\n",
    "    llmPoint = LowestLeftMost(inputSet)\n",
    "    return(sorted(inputSet, key = polarAngle))"
   ]
  },
  {
   "cell_type": "markdown",
   "metadata": {},
   "source": [
    "Use the cell below for all python code needed to test the `grahamscan()` function on the data generated above."
   ]
  },
  {
   "cell_type": "code",
   "execution_count": 1055,
   "metadata": {},
   "outputs": [
    {
     "name": "stdout",
     "output_type": "stream",
     "text": [
      "No. of points \t Time taken \t\t\t Points on hull\n",
      "100       \t 0.005377988331019878      \t 11.666666666666666\n",
      "200       \t 0.00418754566150407      \t 12.666666666666666\n",
      "500       \t 0.009334487670760913      \t 14.333333333333334\n",
      "1000       \t 0.02134720099760064      \t 19.666666666666668\n",
      "2000       \t 0.05502805133194973      \t 20.0\n",
      "5000       \t 0.14765302433321872      \t 23.0\n",
      "10000       \t 0.28747041399765294      \t 23.0\n",
      "15000       \t 0.524628503000713      \t 26.333333333333332\n",
      "20000       \t 0.7238121929985937      \t 24.666666666666668\n"
     ]
    }
   ],
   "source": [
    "import timeit\n",
    "\n",
    "def testGivenPoints(numbersToTest, nof_repeats):\n",
    "    print(\"No. of points\", \"\\t Time taken \\t\\t\\t Points on hull\")\n",
    "    for numberToTest in numbersToTest:\n",
    "        sum_all_times = 0\n",
    "        sum_outputset_size = 0\n",
    "        for i in range(0,nof_repeats):\n",
    "            inputSet = generateRandomInputSet(numberToTest)\n",
    "            #inputSet = generateWorstCaseInputSet(numberToTest)\n",
    "            start_time = timeit.default_timer()\n",
    "            outputSet = grahamscan(inputSet)\n",
    "            end_time = timeit.default_timer()\n",
    "            sum_all_times += end_time - start_time\n",
    "            sum_outputset_size += len(outputSet)\n",
    "        sum_all_times = sum_all_times / nof_repeats\n",
    "        sum_outputset_size = sum_outputset_size / nof_repeats\n",
    "        print(numberToTest, \"      \\t\", sum_all_times, \"     \\t\", sum_outputset_size)\n",
    "\n",
    "#Main code to run tests for each given number of points\n",
    "NOF_REPEATS = 3\n",
    "numbersToTest = [100,200,500,1000,2000,5000,10000,15000,20000]\n",
    "testGivenPoints(numbersToTest, NOF_REPEATS)"
   ]
  },
  {
   "cell_type": "code",
   "execution_count": 1056,
   "metadata": {},
   "outputs": [],
   "source": [
    "inputSet = generateRandomInputSet(100)\n",
    "#inputSet = generateWorstCaseInputSet(100)\n",
    "outputSet = grahamscan(inputSet)"
   ]
  },
  {
   "cell_type": "markdown",
   "metadata": {},
   "source": [
    "*Oprional*: Feel free to use the code below on small datasets (e.g., N = 10) to visually inspect whether the algorithm has been implemented correctly. The fragment below assumes both `inputSet` and `outputSet` to be lists of 2D points, with each point being a list of 2 elements (e.g., `[[x1,y1], [x2,y2], ..., [x_k,y_k]]`)"
   ]
  },
  {
   "cell_type": "code",
   "execution_count": 1057,
   "metadata": {},
   "outputs": [
    {
     "data": {
      "image/png": "[encoded data removed]",
      "text/plain": [
       "<Figure size 432x288 with 1 Axes>"
      ]
     },
     "metadata": {
      "needs_background": "light"
     },
     "output_type": "display_data"
    }
   ],
   "source": [
    "import matplotlib.pyplot as plt\n",
    "# inputSet and outputSet should have been defined above. \n",
    "plt.figure()\n",
    "\n",
    "#first do a scatter plot of the inputSet\n",
    "input_xs, input_ys = zip(*inputSet)\n",
    "plt.scatter(input_xs, input_ys)\n",
    "\n",
    "#then do a polygon plot of the computed covex hull\n",
    "outputSet.append(outputSet[0]) #first create a 'closed loop' by adding the first point at the end of the list\n",
    "output_xs, output_ys = zip(*outputSet) \n",
    "plt.plot(output_xs, output_ys) \n",
    "plt.show() "
   ]
  }
 ],
 "metadata": {
  "kernelspec": {
   "display_name": "Python 3",
   "language": "python",
   "name": "python3"
  },
  "language_info": {
   "codemirror_mode": {
    "name": "ipython",
    "version": 3
   },
   "file_extension": ".py",
   "mimetype": "text/x-python",
   "name": "python",
   "nbconvert_exporter": "python",
   "pygments_lexer": "ipython3",
   "version": "3.8.5"
  }
 },
 "nbformat": 4,
 "nbformat_minor": 4
}
