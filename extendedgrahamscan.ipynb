{
 "cells": [
  {
   "cell_type": "markdown",
   "metadata": {},
   "source": [
    "# Extended Graham scan algorithm"
   ]
  },
  {
   "cell_type": "markdown",
   "metadata": {},
   "source": [
    "Use the cell below for all python code needed to realise the extended Graham scan algorithm (including any auxiliary data structures and functions you might need). The `extendedgrahamscan()` function itself should take as input parameter a list of 2D points (`inputSet`), and return the subset of such points that lie on the convex hull (`outputSet`)."
   ]
  },
  {
   "cell_type": "code",
   "execution_count": 1,
   "metadata": {},
   "outputs": [],
   "source": [
    "# Extended Graham-scan. Optimised with the Akl-Toussaint heuristic\n",
    "import math\n",
    "\n",
    "global averageCase\n",
    "averageCase = True #DO NOT CHANGE THIS, to generate random/worst case data please change methods called below\n",
    "\n",
    "# calculate the polar angle of the line p0p1\n",
    "def polarAngle(p0, p1 = None):\n",
    "    if p1 == None:\n",
    "        p1 = llmPoint\n",
    "    dy = p0[1] - p1[1]\n",
    "    dx = p0[0] - p1[0]\n",
    "    return math.atan2(dy, dx)\n",
    "\n",
    "\n",
    "# calculate the distance squared between p0 and p1\n",
    "def distance(p0, p1 = None):\n",
    "    if p1 == None:\n",
    "        p1 = llmPoint\n",
    "    dy = p0[1] - p1[1]\n",
    "    dx = p0[0] - p1[0]\n",
    "    return dy ** 2 + dx ** 2\n",
    "\n",
    "\n",
    "# 2D determinent for three points\n",
    "def determinant(p1, p2, p3):\n",
    "    return (p2[0] - p1[0]) * (p3[1] - p1[1]) - (p2[1] - p1[1]) * (p3[0] - p1[0])  \n",
    "        \n",
    "\n",
    "\n",
    "def insertionSort(list1, left, right): \n",
    "    for i in range(left + 1, right + 1): \n",
    "        j = i \n",
    "        while j > left and polarAngle(list1[j]) < polarAngle(list1[j - 1]): \n",
    "            list1[j], list1[j - 1] = list1[j - 1], list1[j] \n",
    "            j -= 1\n",
    "            \n",
    "def merge(list1, leftIndex, middleIndex, rightIndex): \n",
    "    n1 =  middleIndex - leftIndex + 1\n",
    "    n2 = rightIndex - middleIndex\n",
    "    left, right = [], [] \n",
    "    for i in range(0, n1): \n",
    "        left.append(list1[leftIndex + i]) \n",
    "    for i in range(0, n2): \n",
    "        right.append(list1[middleIndex + 1 + i]) \n",
    "    i = 0\n",
    "    j = 0\n",
    "    k = leftIndex\n",
    "    while i < n1 and j < n2: \n",
    "        if polarAngle(left[i]) <= polarAngle(right[j]): \n",
    "            list1[k] = left[i] \n",
    "            i += 1\n",
    "        else: \n",
    "            list1[k] = right[j] \n",
    "            j += 1\n",
    "        k += 1\n",
    "    while i < n1: \n",
    "        list1[k] = left[i] \n",
    "        k += 1\n",
    "        i += 1\n",
    "    while j < n2: \n",
    "        list1[k] = right[j] \n",
    "        k += 1\n",
    "        j += 1\n",
    "\n",
    "#timSort uses two commonly implemented algorithms: merge sort and insertion sort\n",
    "def timSort(list1): \n",
    "    #The min run size is set to 32, so that the size of the data is close to a power of two, when we divide the size of a list by MIN_RUN\n",
    "    MIN_RUN = 32\n",
    "    for start in range(0, len(list1), MIN_RUN): \n",
    "        end = min(start + MIN_RUN - 1, len(list1) - 1) \n",
    "        insertionSort(list1, start, end) \n",
    "    size = MIN_RUN\n",
    "    while size < len(list1) : \n",
    "        for left in range(0, len(list1), size * 2): \n",
    "            middle = min(len(list1) - 1, left + size - 1) \n",
    "            right = min((left + size * 2 - 1), (len(list1) - 1)) \n",
    "  \n",
    "            merge(list1, left, middle, right)\n",
    "        size *= 2  \n",
    "\n",
    "#function checks that a point is within the quadrilateral\n",
    "def inQuad(l, t, r, b, p):\n",
    "    #all sides of the quadrilateral are treated as vectors\n",
    "    #when a point makes an anticlockwise turn with the vector then it is considered to be outside the quadrilateral\n",
    "    if determinant(l, t, p) < 0  and determinant(t, r, p) < 0 and determinant(r, b, p) < 0 and determinant(b, l, p) < 0:\n",
    "        return True\n",
    "    return False\n",
    "\n",
    "# Alk-Toussaint heuristic\n",
    "# find the maximum and minimum points xmax, xmin, ymax and ymin\n",
    "# these form a convex quadrilateral\n",
    "# points inside can be ignored, points outside may be in the convex hull. \n",
    "# reference: http://www-cgrl.cs.mcgill.ca/~godfried/publications/fast.convex.hull.algorithm.pdf\n",
    "\n",
    "def akl_toussaint(inputSet):\n",
    "    #collects the four boundary points on the hull from the map of points\n",
    "    #most right point\n",
    "    xmax = max(inputSet, key=lambda p: p[0])\n",
    "    #most left point\n",
    "    xmin = min(inputSet, key=lambda p: p[0])\n",
    "    #top point\n",
    "    ymax = max(inputSet, key=lambda p: p[1])\n",
    "    #bottom point\n",
    "    ymin = min(inputSet, key=lambda p: p[1])    \n",
    "    \n",
    "    newSet = []\n",
    "    \n",
    "    for point in inputSet:\n",
    "        #only adds points outside of the convex quadrilateral\n",
    "        if not inQuad(xmin, ymax, xmax, ymin, point):\n",
    "            newSet.append(point)\n",
    "    return newSet\n",
    "\n",
    "#finds the bottom left point\n",
    "def LowestLeftMost(inputSet):\n",
    "    MIN = 0\n",
    "    for i in range(0, len(inputSet)):\n",
    "        #first finds the lowest point in the input set\n",
    "        if inputSet[i][1] < inputSet[MIN][1]:\n",
    "            MIN = i\n",
    "        # when two points have the same y coordinate\n",
    "        #we must compare x coordinates and the one with the lowest x coordinate is the minimum point\n",
    "        if inputSet[i][1] == inputSet[MIN][1]:\n",
    "            if inputSet[i][0] < inputSet[MIN][0]:\n",
    "                MIN = i     \n",
    "    return inputSet[MIN]\n",
    "\n",
    "def extendedgrahamscan(inputSet):\n",
    "    global llmPoint\n",
    "    if averageCase == True:\n",
    "        inputSet = akl_toussaint(inputSet)\n",
    "    llmPoint = LowestLeftMost(inputSet)\n",
    "    #sort the list of points based on polar angle\n",
    "    timSort(inputSet)\n",
    "    sortedPoints = inputSet\n",
    "    #the hull must have the lowest leftmost point\n",
    "    #sortedPoints[0] is used to make an initial comparison later on\n",
    "    outputSet = [llmPoint, sortedPoints[0]]\n",
    "    for s in sortedPoints[1:]:\n",
    "        #when the orientation is clockwise or the points are co-linear it should pop the last item from the stack\n",
    "        while determinant(outputSet[-2], outputSet[-1], s) <= 0 :\n",
    "            outputSet.pop()\n",
    "            if len(outputSet) < 2: #Check to make sure llm point is not deleted\n",
    "                break\n",
    "        outputSet.append(s)\n",
    "    return outputSet"
   ]
  },
  {
   "cell_type": "markdown",
   "metadata": {},
   "source": [
    "Use the cell below for all python code needed to generate test data points (both random and those representing worst-case scenario)."
   ]
  },
  {
   "cell_type": "code",
   "execution_count": 2,
   "metadata": {},
   "outputs": [],
   "source": [
    "import random\n",
    "\n",
    "#code for random data generation\n",
    "def generateRandomInputSet(N):\n",
    "    global averageCase\n",
    "    averageCase = True\n",
    "    inputSet = []\n",
    "    for i in range(0, N):\n",
    "        x = random.randint(0, 32767)\n",
    "        y = random.randint(0, 32767)\n",
    "        inputSet.append([x, y])\n",
    "    return inputSet\n",
    "\n",
    "#code for worst case data generation\n",
    "#this occurs when there are no points inside the quadrilateral(i.e points on a circle)\n",
    "def generateWorstCaseInputSet(N):\n",
    "    global averageCase\n",
    "    averageCase = False\n",
    "    inputSet = []\n",
    "    for i in range(0, N):\n",
    "        x = random.randint(0, 32767)\n",
    "        y = random.randint(0, 32767)\n",
    "        inputSet.append([x, y])\n",
    "    return inputSet"
   ]
  },
  {
   "cell_type": "markdown",
   "metadata": {},
   "source": [
    "Use the cell below for all python code needed to test the `extendedgrahamscan()` function on the data generated above."
   ]
  },
  {
   "cell_type": "code",
   "execution_count": 3,
   "metadata": {},
   "outputs": [
    {
     "name": "stdout",
     "output_type": "stream",
     "text": [
      "No. of points \t Time taken \t\t\t Points on hull\n",
      "100       \t 0.0009510023333333765      \t 10.666666666666666\n",
      "200       \t 0.0025858040000000435      \t 13.333333333333334\n",
      "500       \t 0.004957213333333321      \t 15.333333333333334\n",
      "1000       \t 0.011489101333333215      \t 15.666666666666666\n",
      "2000       \t 0.02528068699999997      \t 19.333333333333332\n",
      "5000       \t 0.06422313100000003      \t 23.0\n",
      "10000       \t 0.12018289100000001      \t 24.333333333333332\n",
      "15000       \t 0.1845513853333333      \t 26.333333333333332\n",
      "20000       \t 0.2743120659999998      \t 25.666666666666668\n"
     ]
    }
   ],
   "source": [
    "import timeit\n",
    "\n",
    "def testGivenPoints(numbersToTest, nof_repeats):\n",
    "    print(\"No. of points\", \"\\t Time taken \\t\\t\\t Points on hull\")\n",
    "    for numberToTest in numbersToTest:\n",
    "        sum_all_times = 0\n",
    "        sum_outputset_size = 0\n",
    "        for i in range(0,nof_repeats):\n",
    "            inputSet = generateRandomInputSet(numberToTest)\n",
    "            #inputSet = generateWorstCaseInputSet(numberToTest)\n",
    "            start_time = timeit.default_timer()\n",
    "            outputSet = extendedgrahamscan(inputSet)\n",
    "            end_time = timeit.default_timer()\n",
    "            sum_all_times += end_time - start_time\n",
    "            sum_outputset_size += len(outputSet)\n",
    "\n",
    "        sum_all_times = sum_all_times / nof_repeats\n",
    "        sum_outputset_size = sum_outputset_size / nof_repeats\n",
    "        print(numberToTest, \"      \\t\", sum_all_times, \"     \\t\", sum_outputset_size)\n",
    "\n",
    "#Main code to run tests for each given number of points\n",
    "NOF_REPEATS = 3\n",
    "numbersToTest = [100,200,500,1000,2000,5000,10000,15000,20000]\n",
    "testGivenPoints(numbersToTest, NOF_REPEATS)"
   ]
  },
  {
   "cell_type": "code",
   "execution_count": 4,
   "metadata": {},
   "outputs": [],
   "source": [
    "inputSet = generateRandomInputSet(100)\n",
    "#inputSet = generateWorstCaseInputSet(100)\n",
    "outputSet = extendedgrahamscan(inputSet)"
   ]
  },
  {
   "cell_type": "markdown",
   "metadata": {},
   "source": [
    "*Optional*: Feel free to use the code below on small datasets (e.g., N = 10) to visually inspect whether the algorithm has been implemented correctly. The fragment below assumes both `inputSet` and `outputSet` to be lists of 2D points, with each point being a list of 2 elements (e.g., `[[x1,y1], [x2,y2], ..., [x_k,y_k]]`)"
   ]
  },
  {
   "cell_type": "code",
   "execution_count": 5,
   "metadata": {},
   "outputs": [
    {
     "data": {
      "image/png": "[encoded data removed]",
      "text/plain": [
       "<Figure size 432x288 with 1 Axes>"
      ]
     },
     "metadata": {
      "needs_background": "light"
     },
     "output_type": "display_data"
    }
   ],
   "source": [
    "import matplotlib.pyplot as plt\n",
    "# inputSet and outputSet should have been defined above. \n",
    "plt.figure()\n",
    "#first do a scatter plot of the inputSet\n",
    "input_xs, input_ys = zip(*inputSet)\n",
    "plt.scatter(input_xs, input_ys)\n",
    "\n",
    "#then do a polygon plot of the computed covex hull\n",
    "outputSet.append(outputSet[0]) #first create a 'closed loop' by adding the first point at the end of the list\n",
    "output_xs, output_ys = zip(*outputSet) \n",
    "plt.plot(output_xs, output_ys)\n",
    "\n",
    "plt.show() "
   ]
  }
 ],
 "metadata": {
  "kernelspec": {
   "display_name": "Python 3",
   "language": "python",
   "name": "python3"
  },
  "language_info": {
   "codemirror_mode": {
    "name": "ipython",
    "version": 3
   },
   "file_extension": ".py",
   "mimetype": "text/x-python",
   "name": "python",
   "nbconvert_exporter": "python",
   "pygments_lexer": "ipython3",
   "version": "3.9.0"
  }
 },
 "nbformat": 4,
 "nbformat_minor": 4
}
