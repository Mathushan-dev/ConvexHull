{
 "cells": [
  {
   "cell_type": "markdown",
   "metadata": {},
   "source": [
    "# Jarvis march algorithm"
   ]
  },
  {
   "cell_type": "markdown",
   "metadata": {},
   "source": [
    "Use the cell below for all python code needed to realise the Jarvis march algorithm (including any auxiliary data structures and functions you might need). The `jarvismarch()` function itself should take as input parameter a list of 2D points (`inputSet`), and return the subset of such points (`outputSet`) that lie on the convex hull."
   ]
  },
  {
   "cell_type": "code",
   "execution_count": 99,
   "metadata": {},
   "outputs": [],
   "source": [
    "def direction(p,q,r):\n",
    "    #finds the 2D determinant between three points\n",
    "    val = (q[1] - p[1]) * (r[0] - q[0]) - (q[0] - p[0]) * (r[1] - q[1])\n",
    "    #all points lie on a straight line\n",
    "    if val == 0:\n",
    "        return 0\n",
    "    elif val > 0:\n",
    "        return 1\n",
    "    else:\n",
    "        return -1\n",
    "\n",
    "def getLeftIndex(points):\n",
    "    MIN = 0\n",
    "    for i in range(1, len(points)):\n",
    "        #finds the point with the lowest x coordinate\n",
    "        if points[i][0] < points[MIN][0]:\n",
    "            MIN = i\n",
    "    return MIN\n",
    "\n",
    "\n",
    "def jarvismarch(inputSet):\n",
    "    n = len(inputSet)\n",
    "    #A convex hull must have at least three points\n",
    "    if n < 3:\n",
    "        return\n",
    "    \n",
    "    outputSet = []\n",
    "    l = getLeftIndex(inputSet)\n",
    "    #p holds current point index\n",
    "    p = l\n",
    "    #q holds the most anticlockwise point made with the current point\n",
    "    q = 0 \n",
    "    while True:\n",
    "        outputSet.append(inputSet[p])\n",
    "        #by default the most anitclockwise point will be the next point after the current point\n",
    "        q = (p + 1) % n \n",
    "        \n",
    "        for i in range(0,n):\n",
    "            if direction(inputSet[p],inputSet[i],inputSet[q]) == -1:\n",
    "                # when a more anticlockwise point has been found\n",
    "                # the most anticlokwise point must be updated\n",
    "                q = i\n",
    "        #once all comparisons have been made for the current point\n",
    "        #the anticlockwise point is now the current point\n",
    "        p = q\n",
    "        #once the current point loops back to the left most point then it exits the loop\n",
    "        if p == l:\n",
    "            break\n",
    "    \n",
    "    return outputSet"
   ]
  },
  {
   "cell_type": "markdown",
   "metadata": {},
   "source": [
    "Use the cell below for all python code needed to generate test data points (both random and those representing worst-case scenario)."
   ]
  },
  {
   "cell_type": "code",
   "execution_count": 100,
   "metadata": {
    "scrolled": true
   },
   "outputs": [],
   "source": [
    "import random\n",
    "import math\n",
    "#code for random data generation\n",
    "def generateRandomInputSet(n):\n",
    "    data = []\n",
    "    for i in range(0, n):\n",
    "        x = random.randint(0,32767)\n",
    "        y = random.randint(0,32767)\n",
    "        data.append([x,y])\n",
    "    return data\n",
    "\n",
    "#code for worst case data generation\n",
    "#this occurs when all points are on the convex hull (i.e points on a circle)\n",
    "def generateWorstCaseInputSet(n):\n",
    "    data = []\n",
    "    r = 32767 // 2\n",
    "    for x in range(0, n):\n",
    "        data.append([(r + math.cos(2 * math.pi / n * x) * r), (r + math.sin(2 * math.pi / n * x) * r)])\n",
    "    return data"
   ]
  },
  {
   "cell_type": "markdown",
   "metadata": {},
   "source": [
    "Use the cell below for all python code needed to test the `jarvismarch()` function on the data generated above."
   ]
  },
  {
   "cell_type": "code",
   "execution_count": 101,
   "metadata": {},
   "outputs": [
    {
     "name": "stdout",
     "output_type": "stream",
     "text": [
      "No. of points \t Time taken \t\t\t Points on hull\n",
      "100       \t 0.001953303668415174      \t 13.333333333333334\n",
      "200       \t 0.0035982933283473053      \t 14.666666666666666\n",
      "500       \t 0.015095361003962656      \t 15.666666666666666\n",
      "1000       \t 0.020594871331316728      \t 17.0\n",
      "2000       \t 0.06585577200166881      \t 24.0\n",
      "5000       \t 0.20382693000040794      \t 25.333333333333332\n",
      "10000       \t 0.3038030269963201      \t 22.666666666666668\n",
      "15000       \t 0.44113683900407824      \t 24.333333333333332\n",
      "20000       \t 0.5615118453279138      \t 26.666666666666668\n"
     ]
    }
   ],
   "source": [
    "import timeit\n",
    "\n",
    "def testGivenPoints(numbersToTest, nof_repeats):\n",
    "    print(\"No. of points\", \"\\t Time taken \\t\\t\\t Points on hull\")\n",
    "    for numberToTest in numbersToTest:\n",
    "        sum_all_times = 0\n",
    "        sum_outputset_size = 0\n",
    "        for i in range(0,nof_repeats):\n",
    "            inputSet = generateRandomInputSet(numberToTest)\n",
    "            #inputSet = generateWorstCaseInputSet(numberToTest)\n",
    "            start_time = timeit.default_timer()\n",
    "            outputSet = jarvismarch(inputSet)\n",
    "            end_time = timeit.default_timer()\n",
    "            sum_all_times += end_time - start_time\n",
    "            sum_outputset_size += len(outputSet)\n",
    "\n",
    "        sum_all_times = sum_all_times / nof_repeats\n",
    "        sum_outputset_size = sum_outputset_size / nof_repeats\n",
    "        print(numberToTest, \"      \\t\", sum_all_times, \"     \\t\", sum_outputset_size)\n",
    "\n",
    "#Main code to run tests for each given number of points\n",
    "NOF_REPEATS = 3\n",
    "numbersToTest = [100,200,500,1000,2000,5000,10000,15000,20000]\n",
    "testGivenPoints(numbersToTest, NOF_REPEATS)"
   ]
  },
  {
   "cell_type": "code",
   "execution_count": 102,
   "metadata": {},
   "outputs": [],
   "source": [
    "inputSet = generateRandomInputSet(100)\n",
    "#inputSet = generateWorstCaseInputSet(100)\n",
    "outputSet = jarvismarch(inputSet)"
   ]
  },
  {
   "cell_type": "markdown",
   "metadata": {},
   "source": [
    "*Optional*: Feel free to use the code below on small datasets (e.g., N = 10) to visually inspect whether the algorithm has been implemented correctly. The fragment below assumes both `inputSet` and `outputSet` to be lists of 2D points, with each point being a list of 2 elements (e.g., `[[x1,y1], [x2,y2], ..., [x_k,y_k]]`)"
   ]
  },
  {
   "cell_type": "code",
   "execution_count": 103,
   "metadata": {},
   "outputs": [
    {
     "data": {
      "image/png": "[encoded data removed]",
      "text/plain": [
       "<Figure size 432x288 with 1 Axes>"
      ]
     },
     "metadata": {
      "needs_background": "light"
     },
     "output_type": "display_data"
    }
   ],
   "source": [
    "import matplotlib.pyplot as plt\n",
    "\n",
    "plt.figure()\n",
    "\n",
    "#first do a scatter plot of the inputSet\n",
    "input_xs, input_ys = zip(*inputSet)\n",
    "plt.scatter(input_xs, input_ys)\n",
    "\n",
    "#then do a polygon plot of the computed covex hull\n",
    "outputSet.append(outputSet[0]) #first create a 'closed loop' by adding the first point at the end of the list\n",
    "output_xs, output_ys = zip(*outputSet) \n",
    "plt.plot(output_xs, output_ys) \n",
    "plt.show()"
   ]
  }
 ],
 "metadata": {
  "kernelspec": {
   "display_name": "Python 3",
   "language": "python",
   "name": "python3"
  },
  "language_info": {
   "codemirror_mode": {
    "name": "ipython",
    "version": 3
   },
   "file_extension": ".py",
   "mimetype": "text/x-python",
   "name": "python",
   "nbconvert_exporter": "python",
   "pygments_lexer": "ipython3",
   "version": "3.8.5"
  }
 },
 "nbformat": 4,
 "nbformat_minor": 4
}
